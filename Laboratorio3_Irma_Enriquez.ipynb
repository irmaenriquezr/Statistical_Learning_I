{
 "cells": [
  {
   "cell_type": "code",
   "execution_count": 2,
   "metadata": {},
   "outputs": [],
   "source": [
    "import pandas as pd\n",
    "import numpy as np\n",
    "import matplotlib.pyplot as plt\n",
    "\n",
    "from sklearn.linear_model import Lasso\n",
    "from sklearn.metrics import mean_squared_error, r2_score\n",
    "from sklearn.model_selection import train_test_split\n",
    "from sklearn.pipeline import Pipeline\n",
    "from sklearn.preprocessing import MinMaxScaler, Binarizer\n",
    "\n",
    "from feature_engine.imputation import AddMissingIndicator, MeanMedianImputer, CategoricalImputer\n",
    "from feature_engine.encoding import RareLabelEncoder, OrdinalEncoder\n",
    "from feature_engine.transformation import LogTransformer\n",
    "from feature_engine.selection import DropFeatures\n",
    "from feature_engine.wrappers import SklearnTransformerWrapper\n",
    "\n",
    "import myPreprocessors as mypp #nuestra librerías de transformaciones.\n",
    "\n",
    "import joblib"
   ]
  },
  {
   "attachments": {},
   "cell_type": "markdown",
   "metadata": {},
   "source": [
    "#### 1. Se carga el carga la información y se crea un Dataframe"
   ]
  },
  {
   "cell_type": "code",
   "execution_count": 3,
   "metadata": {},
   "outputs": [
    {
     "data": {
      "text/html": [
       "<div>\n",
       "<style scoped>\n",
       "    .dataframe tbody tr th:only-of-type {\n",
       "        vertical-align: middle;\n",
       "    }\n",
       "\n",
       "    .dataframe tbody tr th {\n",
       "        vertical-align: top;\n",
       "    }\n",
       "\n",
       "    .dataframe thead th {\n",
       "        text-align: right;\n",
       "    }\n",
       "</style>\n",
       "<table border=\"1\" class=\"dataframe\">\n",
       "  <thead>\n",
       "    <tr style=\"text-align: right;\">\n",
       "      <th></th>\n",
       "      <th>id</th>\n",
       "      <th>longitude</th>\n",
       "      <th>latitude</th>\n",
       "      <th>housing_median_age</th>\n",
       "      <th>total_rooms</th>\n",
       "      <th>total_bedrooms</th>\n",
       "      <th>population</th>\n",
       "      <th>households</th>\n",
       "      <th>median_income</th>\n",
       "      <th>median_house_value</th>\n",
       "      <th>ocean_proximity</th>\n",
       "    </tr>\n",
       "  </thead>\n",
       "  <tbody>\n",
       "    <tr>\n",
       "      <th>0</th>\n",
       "      <td>9744</td>\n",
       "      <td>-121.65</td>\n",
       "      <td>36.77</td>\n",
       "      <td>15</td>\n",
       "      <td>2191</td>\n",
       "      <td>358.0</td>\n",
       "      <td>1150</td>\n",
       "      <td>330</td>\n",
       "      <td>4.7969</td>\n",
       "      <td>227500.0</td>\n",
       "      <td>&lt;1H OCEAN</td>\n",
       "    </tr>\n",
       "    <tr>\n",
       "      <th>1</th>\n",
       "      <td>13893</td>\n",
       "      <td>-116.27</td>\n",
       "      <td>34.13</td>\n",
       "      <td>37</td>\n",
       "      <td>452</td>\n",
       "      <td>109.0</td>\n",
       "      <td>184</td>\n",
       "      <td>59</td>\n",
       "      <td>3.7292</td>\n",
       "      <td>65800.0</td>\n",
       "      <td>INLAND</td>\n",
       "    </tr>\n",
       "    <tr>\n",
       "      <th>2</th>\n",
       "      <td>18277</td>\n",
       "      <td>-122.07</td>\n",
       "      <td>37.34</td>\n",
       "      <td>35</td>\n",
       "      <td>1172</td>\n",
       "      <td>184.0</td>\n",
       "      <td>512</td>\n",
       "      <td>175</td>\n",
       "      <td>7.3561</td>\n",
       "      <td>500001.0</td>\n",
       "      <td>&lt;1H OCEAN</td>\n",
       "    </tr>\n",
       "    <tr>\n",
       "      <th>3</th>\n",
       "      <td>16176</td>\n",
       "      <td>-122.39</td>\n",
       "      <td>37.74</td>\n",
       "      <td>52</td>\n",
       "      <td>126</td>\n",
       "      <td>24.0</td>\n",
       "      <td>37</td>\n",
       "      <td>27</td>\n",
       "      <td>10.2264</td>\n",
       "      <td>225000.0</td>\n",
       "      <td>NEAR BAY</td>\n",
       "    </tr>\n",
       "    <tr>\n",
       "      <th>4</th>\n",
       "      <td>8843</td>\n",
       "      <td>-118.38</td>\n",
       "      <td>34.09</td>\n",
       "      <td>28</td>\n",
       "      <td>4001</td>\n",
       "      <td>1352.0</td>\n",
       "      <td>1799</td>\n",
       "      <td>1220</td>\n",
       "      <td>2.5784</td>\n",
       "      <td>272900.0</td>\n",
       "      <td>&lt;1H OCEAN</td>\n",
       "    </tr>\n",
       "  </tbody>\n",
       "</table>\n",
       "</div>"
      ],
      "text/plain": [
       "      id  longitude  latitude  housing_median_age  total_rooms  \\\n",
       "0   9744    -121.65     36.77                  15         2191   \n",
       "1  13893    -116.27     34.13                  37          452   \n",
       "2  18277    -122.07     37.34                  35         1172   \n",
       "3  16176    -122.39     37.74                  52          126   \n",
       "4   8843    -118.38     34.09                  28         4001   \n",
       "\n",
       "   total_bedrooms  population  households  median_income  median_house_value  \\\n",
       "0           358.0        1150         330         4.7969            227500.0   \n",
       "1           109.0         184          59         3.7292             65800.0   \n",
       "2           184.0         512         175         7.3561            500001.0   \n",
       "3            24.0          37          27        10.2264            225000.0   \n",
       "4          1352.0        1799        1220         2.5784            272900.0   \n",
       "\n",
       "  ocean_proximity  \n",
       "0       <1H OCEAN  \n",
       "1          INLAND  \n",
       "2       <1H OCEAN  \n",
       "3        NEAR BAY  \n",
       "4       <1H OCEAN  "
      ]
     },
     "execution_count": 3,
     "metadata": {},
     "output_type": "execute_result"
    }
   ],
   "source": [
    "dataTrain = pd.read_csv(\"train.csv\")\n",
    "dataTrain.head()"
   ]
  },
  {
   "cell_type": "code",
   "execution_count": 4,
   "metadata": {},
   "outputs": [
    {
     "data": {
      "text/plain": [
       "id                      int64\n",
       "longitude             float64\n",
       "latitude              float64\n",
       "housing_median_age      int64\n",
       "total_rooms             int64\n",
       "total_bedrooms        float64\n",
       "population              int64\n",
       "households              int64\n",
       "median_income         float64\n",
       "median_house_value    float64\n",
       "ocean_proximity        object\n",
       "dtype: object"
      ]
     },
     "execution_count": 4,
     "metadata": {},
     "output_type": "execute_result"
    }
   ],
   "source": [
    "#Determinación de tipo de datos del dataframe\n",
    "dataTrain.dtypes"
   ]
  },
  {
   "attachments": {},
   "cell_type": "markdown",
   "metadata": {},
   "source": [
    "#### 3. Determinando Nulos "
   ]
  },
  {
   "cell_type": "code",
   "execution_count": 5,
   "metadata": {},
   "outputs": [
    {
     "data": {
      "text/plain": [
       "['total_bedrooms']"
      ]
     },
     "execution_count": 5,
     "metadata": {},
     "output_type": "execute_result"
    }
   ],
   "source": [
    "#Determine que columnas poseen faltantes (NA o Nulos)\n",
    "columnas_nulos= [col for col in dataTrain.columns if(dataTrain[col].isnull().mean()>0)]\n",
    "columnas_nulos"
   ]
  },
  {
   "cell_type": "code",
   "execution_count": 6,
   "metadata": {},
   "outputs": [
    {
     "data": {
      "text/plain": [
       "0.009482937634110887"
      ]
     },
     "execution_count": 6,
     "metadata": {},
     "output_type": "execute_result"
    }
   ],
   "source": [
    "#Determinación de la porcion de faltantes en las columna de Total bedrooms\n",
    "dataTrain['total_bedrooms'].isnull().mean()"
   ]
  },
  {
   "cell_type": "code",
   "execution_count": 7,
   "metadata": {},
   "outputs": [
    {
     "data": {
      "image/png": "[encoded data removed]",
      "text/plain": [
       "<Figure size 640x480 with 1 Axes>"
      ]
     },
     "metadata": {},
     "output_type": "display_data"
    }
   ],
   "source": [
    "#Con la proporción de faltantes se determina gráfico de Barras\n",
    "dataTrain['total_bedrooms'].hist(bins=50, density=True, color='red', alpha=0.2)\n",
    "plt.show()"
   ]
  },
  {
   "attachments": {},
   "cell_type": "markdown",
   "metadata": {},
   "source": [
    "#### 2. Train Test Split para Entrenamiento y Prueba"
   ]
  },
  {
   "cell_type": "code",
   "execution_count": 8,
   "metadata": {},
   "outputs": [],
   "source": [
    "#División de conjunto de datos aprendizaje automatico y objetivo a predecir, se establece el 30% del conjunto\n",
    "X_train, X_test, y_train, y_test = train_test_split(\n",
    "    dataTrain.drop(['id', 'median_house_value'], axis=1),\n",
    "    dataTrain['median_house_value'],\n",
    "    test_size=0.3,\n",
    "    random_state=2022)"
   ]
  },
  {
   "attachments": {},
   "cell_type": "markdown",
   "metadata": {},
   "source": [
    "#### 3. Configuración del Pipeline"
   ]
  },
  {
   "cell_type": "code",
   "execution_count": 9,
   "metadata": {},
   "outputs": [],
   "source": [
    "#Imputación de variables numéricas\n",
    "NUMERICAL_VARS_WITH_NA = ['total_bedrooms']\n",
    "\n",
    "#Variables para codificación por frecuencia (no ordinal)\n",
    "CATEGORICAL_VARS = ['ocean_proximity']\n",
    "\n",
    "#Variables a utilzar en el entrenamiento\n",
    "FEATURES = [\n",
    "    'longitude',\n",
    "    'latitude',             \n",
    "    'housing_median_age',     \n",
    "    'total_rooms',             \n",
    "    'total_bedrooms',    \n",
    "    'population',           \n",
    "    'households',      \n",
    "    'median_income',       \n",
    "    'ocean_proximity',     \n",
    "]"
   ]
  },
  {
   "cell_type": "code",
   "execution_count": 10,
   "metadata": {},
   "outputs": [],
   "source": [
    "#Selección de conjunto de datos de entrenamiento \n",
    "X_train = X_train[FEATURES]"
   ]
  },
  {
   "cell_type": "code",
   "execution_count": 11,
   "metadata": {},
   "outputs": [],
   "source": [
    "#Transformación y Reducción de Sesgo y mayor precisión del modelo \n",
    "y_train = np.log(y_train)\n",
    "y_test = np.log(y_test)"
   ]
  },
  {
   "attachments": {},
   "cell_type": "markdown",
   "metadata": {},
   "source": [
    "#### 4. Construcción del Pipeline"
   ]
  },
  {
   "cell_type": "code",
   "execution_count": 12,
   "metadata": {},
   "outputs": [],
   "source": [
    "housePrice_pipeline_v062023 = Pipeline([\n",
    "    \n",
    "    #=========== IMPUTACIONES ===============\n",
    "    \n",
    "    #1. Indicador faltane en variables numericas para imputación\n",
    "    ('missing_indicator_numeric',\n",
    "        AddMissingIndicator(variables=NUMERICAL_VARS_WITH_NA)\n",
    "    ),\n",
    "    \n",
    "    #2. Imputación de variables numéricas\n",
    "    ('mean_imputation',\n",
    "        MeanMedianImputer(imputation_method='mean', variables=NUMERICAL_VARS_WITH_NA)\n",
    "    ),\n",
    "\n",
    "#============= CODIFICACIÓN DE VARIABLES CATEGORICAS NOMINALES ==================\n",
    "    ('rare_label_encoder',\n",
    "        RareLabelEncoder(n_categories=1, tol=0.01, variables=CATEGORICAL_VARS)\n",
    "    ),\n",
    "    \n",
    "    ('categorical_encoder',\n",
    "        OrdinalEncoder(encoding_method='ordered', variables=CATEGORICAL_VARS)\n",
    "    ),\n",
    "\n",
    "     #=============== SCALER ============\n",
    "    ('scaler',\n",
    "        MinMaxScaler()\n",
    "    ),\n",
    "    \n",
    "    ('modelo_lasso', \n",
    "         Lasso(alpha=0.01, random_state=2022)\n",
    "    )\n",
    "])"
   ]
  },
  {
   "cell_type": "code",
   "execution_count": 13,
   "metadata": {},
   "outputs": [
    {
     "data": {
      "text/html": [
       "<style>#sk-container-id-1 {color: black;background-color: white;}#sk-container-id-1 pre{padding: 0;}#sk-container-id-1 div.sk-toggleable {background-color: white;}#sk-container-id-1 label.sk-toggleable__label {cursor: pointer;display: block;width: 100%;margin-bottom: 0;padding: 0.3em;box-sizing: border-box;text-align: center;}#sk-container-id-1 label.sk-toggleable__label-arrow:before {content: \"▸\";float: left;margin-right: 0.25em;color: #696969;}#sk-container-id-1 label.sk-toggleable__label-arrow:hover:before {color: black;}#sk-container-id-1 div.sk-estimator:hover label.sk-toggleable__label-arrow:before {color: black;}#sk-container-id-1 div.sk-toggleable__content {max-height: 0;max-width: 0;overflow: hidden;text-align: left;background-color: #f0f8ff;}#sk-container-id-1 div.sk-toggleable__content pre {margin: 0.2em;color: black;border-radius: 0.25em;background-color: #f0f8ff;}#sk-container-id-1 input.sk-toggleable__control:checked~div.sk-toggleable__content {max-height: 200px;max-width: 100%;overflow: auto;}#sk-container-id-1 input.sk-toggleable__control:checked~label.sk-toggleable__label-arrow:before {content: \"▾\";}#sk-container-id-1 div.sk-estimator input.sk-toggleable__control:checked~label.sk-toggleable__label {background-color: #d4ebff;}#sk-container-id-1 div.sk-label input.sk-toggleable__control:checked~label.sk-toggleable__label {background-color: #d4ebff;}#sk-container-id-1 input.sk-hidden--visually {border: 0;clip: rect(1px 1px 1px 1px);clip: rect(1px, 1px, 1px, 1px);height: 1px;margin: -1px;overflow: hidden;padding: 0;position: absolute;width: 1px;}#sk-container-id-1 div.sk-estimator {font-family: monospace;background-color: #f0f8ff;border: 1px dotted black;border-radius: 0.25em;box-sizing: border-box;margin-bottom: 0.5em;}#sk-container-id-1 div.sk-estimator:hover {background-color: #d4ebff;}#sk-container-id-1 div.sk-parallel-item::after {content: \"\";width: 100%;border-bottom: 1px solid gray;flex-grow: 1;}#sk-container-id-1 div.sk-label:hover label.sk-toggleable__label {background-color: #d4ebff;}#sk-container-id-1 div.sk-serial::before {content: \"\";position: absolute;border-left: 1px solid gray;box-sizing: border-box;top: 0;bottom: 0;left: 50%;z-index: 0;}#sk-container-id-1 div.sk-serial {display: flex;flex-direction: column;align-items: center;background-color: white;padding-right: 0.2em;padding-left: 0.2em;position: relative;}#sk-container-id-1 div.sk-item {position: relative;z-index: 1;}#sk-container-id-1 div.sk-parallel {display: flex;align-items: stretch;justify-content: center;background-color: white;position: relative;}#sk-container-id-1 div.sk-item::before, #sk-container-id-1 div.sk-parallel-item::before {content: \"\";position: absolute;border-left: 1px solid gray;box-sizing: border-box;top: 0;bottom: 0;left: 50%;z-index: -1;}#sk-container-id-1 div.sk-parallel-item {display: flex;flex-direction: column;z-index: 1;position: relative;background-color: white;}#sk-container-id-1 div.sk-parallel-item:first-child::after {align-self: flex-end;width: 50%;}#sk-container-id-1 div.sk-parallel-item:last-child::after {align-self: flex-start;width: 50%;}#sk-container-id-1 div.sk-parallel-item:only-child::after {width: 0;}#sk-container-id-1 div.sk-dashed-wrapped {border: 1px dashed gray;margin: 0 0.4em 0.5em 0.4em;box-sizing: border-box;padding-bottom: 0.4em;background-color: white;}#sk-container-id-1 div.sk-label label {font-family: monospace;font-weight: bold;display: inline-block;line-height: 1.2em;}#sk-container-id-1 div.sk-label-container {text-align: center;}#sk-container-id-1 div.sk-container {/* jupyter's `normalize.less` sets `[hidden] { display: none; }` but bootstrap.min.css set `[hidden] { display: none !important; }` so we also need the `!important` here to be able to override the default hidden behavior on the sphinx rendered scikit-learn.org. See: https://github.com/scikit-learn/scikit-learn/issues/21755 */display: inline-block !important;position: relative;}#sk-container-id-1 div.sk-text-repr-fallback {display: none;}</style><div id=\"sk-container-id-1\" class=\"sk-top-container\"><div class=\"sk-text-repr-fallback\"><pre>Pipeline(steps=[(&#x27;missing_indicator_numeric&#x27;,\n",
       "                 AddMissingIndicator(variables=[&#x27;total_bedrooms&#x27;])),\n",
       "                (&#x27;mean_imputation&#x27;,\n",
       "                 MeanMedianImputer(imputation_method=&#x27;mean&#x27;,\n",
       "                                   variables=[&#x27;total_bedrooms&#x27;])),\n",
       "                (&#x27;rare_label_encoder&#x27;,\n",
       "                 RareLabelEncoder(n_categories=1, tol=0.01,\n",
       "                                  variables=[&#x27;ocean_proximity&#x27;])),\n",
       "                (&#x27;categorical_encoder&#x27;,\n",
       "                 OrdinalEncoder(variables=[&#x27;ocean_proximity&#x27;])),\n",
       "                (&#x27;scaler&#x27;, MinMaxScaler()),\n",
       "                (&#x27;modelo_lasso&#x27;, Lasso(alpha=0.01, random_state=2022))])</pre><b>In a Jupyter environment, please rerun this cell to show the HTML representation or trust the notebook. <br />On GitHub, the HTML representation is unable to render, please try loading this page with nbviewer.org.</b></div><div class=\"sk-container\" hidden><div class=\"sk-item sk-dashed-wrapped\"><div class=\"sk-label-container\"><div class=\"sk-label sk-toggleable\"><input class=\"sk-toggleable__control sk-hidden--visually\" id=\"sk-estimator-id-1\" type=\"checkbox\" ><label for=\"sk-estimator-id-1\" class=\"sk-toggleable__label sk-toggleable__label-arrow\">Pipeline</label><div class=\"sk-toggleable__content\"><pre>Pipeline(steps=[(&#x27;missing_indicator_numeric&#x27;,\n",
       "                 AddMissingIndicator(variables=[&#x27;total_bedrooms&#x27;])),\n",
       "                (&#x27;mean_imputation&#x27;,\n",
       "                 MeanMedianImputer(imputation_method=&#x27;mean&#x27;,\n",
       "                                   variables=[&#x27;total_bedrooms&#x27;])),\n",
       "                (&#x27;rare_label_encoder&#x27;,\n",
       "                 RareLabelEncoder(n_categories=1, tol=0.01,\n",
       "                                  variables=[&#x27;ocean_proximity&#x27;])),\n",
       "                (&#x27;categorical_encoder&#x27;,\n",
       "                 OrdinalEncoder(variables=[&#x27;ocean_proximity&#x27;])),\n",
       "                (&#x27;scaler&#x27;, MinMaxScaler()),\n",
       "                (&#x27;modelo_lasso&#x27;, Lasso(alpha=0.01, random_state=2022))])</pre></div></div></div><div class=\"sk-serial\"><div class=\"sk-item\"><div class=\"sk-estimator sk-toggleable\"><input class=\"sk-toggleable__control sk-hidden--visually\" id=\"sk-estimator-id-2\" type=\"checkbox\" ><label for=\"sk-estimator-id-2\" class=\"sk-toggleable__label sk-toggleable__label-arrow\">AddMissingIndicator</label><div class=\"sk-toggleable__content\"><pre>AddMissingIndicator(variables=[&#x27;total_bedrooms&#x27;])</pre></div></div></div><div class=\"sk-item\"><div class=\"sk-estimator sk-toggleable\"><input class=\"sk-toggleable__control sk-hidden--visually\" id=\"sk-estimator-id-3\" type=\"checkbox\" ><label for=\"sk-estimator-id-3\" class=\"sk-toggleable__label sk-toggleable__label-arrow\">MeanMedianImputer</label><div class=\"sk-toggleable__content\"><pre>MeanMedianImputer(imputation_method=&#x27;mean&#x27;, variables=[&#x27;total_bedrooms&#x27;])</pre></div></div></div><div class=\"sk-item\"><div class=\"sk-estimator sk-toggleable\"><input class=\"sk-toggleable__control sk-hidden--visually\" id=\"sk-estimator-id-4\" type=\"checkbox\" ><label for=\"sk-estimator-id-4\" class=\"sk-toggleable__label sk-toggleable__label-arrow\">RareLabelEncoder</label><div class=\"sk-toggleable__content\"><pre>RareLabelEncoder(n_categories=1, tol=0.01, variables=[&#x27;ocean_proximity&#x27;])</pre></div></div></div><div class=\"sk-item\"><div class=\"sk-estimator sk-toggleable\"><input class=\"sk-toggleable__control sk-hidden--visually\" id=\"sk-estimator-id-5\" type=\"checkbox\" ><label for=\"sk-estimator-id-5\" class=\"sk-toggleable__label sk-toggleable__label-arrow\">OrdinalEncoder</label><div class=\"sk-toggleable__content\"><pre>OrdinalEncoder(variables=[&#x27;ocean_proximity&#x27;])</pre></div></div></div><div class=\"sk-item\"><div class=\"sk-estimator sk-toggleable\"><input class=\"sk-toggleable__control sk-hidden--visually\" id=\"sk-estimator-id-6\" type=\"checkbox\" ><label for=\"sk-estimator-id-6\" class=\"sk-toggleable__label sk-toggleable__label-arrow\">MinMaxScaler</label><div class=\"sk-toggleable__content\"><pre>MinMaxScaler()</pre></div></div></div><div class=\"sk-item\"><div class=\"sk-estimator sk-toggleable\"><input class=\"sk-toggleable__control sk-hidden--visually\" id=\"sk-estimator-id-7\" type=\"checkbox\" ><label for=\"sk-estimator-id-7\" class=\"sk-toggleable__label sk-toggleable__label-arrow\">Lasso</label><div class=\"sk-toggleable__content\"><pre>Lasso(alpha=0.01, random_state=2022)</pre></div></div></div></div></div></div></div>"
      ],
      "text/plain": [
       "Pipeline(steps=[('missing_indicator_numeric',\n",
       "                 AddMissingIndicator(variables=['total_bedrooms'])),\n",
       "                ('mean_imputation',\n",
       "                 MeanMedianImputer(imputation_method='mean',\n",
       "                                   variables=['total_bedrooms'])),\n",
       "                ('rare_label_encoder',\n",
       "                 RareLabelEncoder(n_categories=1, tol=0.01,\n",
       "                                  variables=['ocean_proximity'])),\n",
       "                ('categorical_encoder',\n",
       "                 OrdinalEncoder(variables=['ocean_proximity'])),\n",
       "                ('scaler', MinMaxScaler()),\n",
       "                ('modelo_lasso', Lasso(alpha=0.01, random_state=2022))])"
      ]
     },
     "execution_count": 13,
     "metadata": {},
     "output_type": "execute_result"
    }
   ],
   "source": [
    "#Ajustando el modelo, utilizando variables de entrenamiento\n",
    "housePrice_pipeline_v062023.fit(X_train, y_train)"
   ]
  },
  {
   "cell_type": "code",
   "execution_count": 14,
   "metadata": {},
   "outputs": [],
   "source": [
    "#Selección de Caracteristicas \n",
    "X_test = X_test[FEATURES]"
   ]
  },
  {
   "cell_type": "code",
   "execution_count": 15,
   "metadata": {},
   "outputs": [],
   "source": [
    "#Realización de predicciones sobre el subconjunto de datos \n",
    "preds = housePrice_pipeline_v062023.predict(X_test)"
   ]
  },
  {
   "cell_type": "code",
   "execution_count": 16,
   "metadata": {},
   "outputs": [
    {
     "data": {
      "text/plain": [
       "86077.02825053826"
      ]
     },
     "execution_count": 16,
     "metadata": {},
     "output_type": "execute_result"
    }
   ],
   "source": [
    "#Calculo del error cuadratico medio \n",
    "rmseTest = np.sqrt(mean_squared_error(np.exp(y_test), np.exp(preds)))\n",
    "rmseTest"
   ]
  },
  {
   "cell_type": "code",
   "execution_count": 17,
   "metadata": {},
   "outputs": [
    {
     "data": {
      "text/plain": [
       "(14999.00000000001, 500000.99999999977)"
      ]
     },
     "execution_count": 17,
     "metadata": {},
     "output_type": "execute_result"
    }
   ],
   "source": [
    "#Calculo de precios de venta mínimo y máximo \n",
    "np.min(np.exp(y_train)), np.max(np.exp(y_train))"
   ]
  },
  {
   "cell_type": "code",
   "execution_count": 18,
   "metadata": {},
   "outputs": [
    {
     "data": {
      "text/plain": [
       "0.17747767689728766"
      ]
     },
     "execution_count": 18,
     "metadata": {},
     "output_type": "execute_result"
    }
   ],
   "source": [
    "#Calculo del RMSE normalizado\n",
    "rmseTest / (np.max(np.exp(y_train)) - np.min(np.exp(y_train)))"
   ]
  },
  {
   "cell_type": "code",
   "execution_count": 19,
   "metadata": {},
   "outputs": [
    {
     "data": {
      "text/plain": [
       "['housePrice_pipeline_v062023.pkl']"
      ]
     },
     "execution_count": 19,
     "metadata": {},
     "output_type": "execute_result"
    }
   ],
   "source": [
    "#Guardar el pipeline para uso en producción.\n",
    "joblib.dump(housePrice_pipeline_v062023, 'housePrice_pipeline_v062023.pkl')"
   ]
  },
  {
   "cell_type": "code",
   "execution_count": 20,
   "metadata": {},
   "outputs": [
    {
     "data": {
      "text/plain": [
       "['FEATURES.pkl']"
      ]
     },
     "execution_count": 20,
     "metadata": {},
     "output_type": "execute_result"
    }
   ],
   "source": [
    "#Guardar la variable para uso en producción.\n",
    "joblib.dump(FEATURES, 'FEATURES.pkl')"
   ]
  }
 ],
 "metadata": {
  "kernelspec": {
   "display_name": "Clasejueves8",
   "language": "python",
   "name": "python3"
  },
  "language_info": {
   "codemirror_mode": {
    "name": "ipython",
    "version": 3
   },
   "file_extension": ".py",
   "mimetype": "text/x-python",
   "name": "python",
   "nbconvert_exporter": "python",
   "pygments_lexer": "ipython3",
   "version": "3.8.16"
  },
  "orig_nbformat": 4
 },
 "nbformat": 4,
 "nbformat_minor": 2
}
